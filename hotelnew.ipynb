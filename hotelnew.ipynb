{
 "cells": [
  {
   "cell_type": "markdown",
   "id": "7ef6f07d",
   "metadata": {},
   "source": [
    "# <center>Hotel Booking Demand Dataset Analysis</center>\n",
    "\n",
    "<center><img src=\"https://images.unsplash.com/photo-1566073771259-6a8506099945?ixlib=rb-1.2.1&auto=format&fit=crop&w=1000&q=80\" width=\"800\"></center>\n",
    "\n",
    "## Table of Contents\n",
    "1. [Data Description](#1-data-description)\n",
    "2. [Data Loading](#2-data-loading)\n",
    "3. [Data Understanding](#3-data-understanding)\n",
    "   - [Basic Statistics](#31-basic-statistics)\n",
    "   - [Missing Values Analysis](#32-missing-values-analysis)\n",
    "   - [Data Visualization](#33-data-visualization)\n",
    "4. [Data Preparation](#4-data-preparation)\n",
    "   - [Handling Missing Values](#41-handling-missing-values)\n",
    "   - [Handling Outliers](#42-handling-outliers)\n",
    "   - [Encoding Categorical Variables](#43-encoding-categorical-variables)\n",
    "   - [Feature Engineering](#44-feature-engineering)\n",
    "   - [Feature Selection](#45-feature-selection)\n",
    "5. [Conclusion](#5-conclusion)"
   ]
  },
  {
   "cell_type": "markdown",
   "id": "4bd7f173",
   "metadata": {},
   "source": [
    "# 1. Data Description\n",
    "\n",
    "## Nama Dataset dan Sumbernya\n",
    "Dataset yang digunakan adalah **Hotel Booking Demand** yang tersedia di [Kaggle](https://www.kaggle.com/datasets/jessemostipak/hotel-booking-demand).\n",
    "\n",
    "## Deskripsi Singkat\n",
    "Dataset ini berisi informasi tentang pemesanan hotel dari dua jenis hotel: Resort Hotel dan City Hotel. Data mencakup pemesanan yang tiba antara 1 Juli 2015 dan 31 Agustus 2017, termasuk pemesanan yang berhasil check-in dan pemesanan yang dibatalkan.\n",
    "\n",
    "Dataset ini sangat berguna untuk analisis perilaku pemesanan hotel, prediksi pembatalan, dan strategi penetapan harga. Informasi yang terkandung di dalamnya dapat membantu hotel untuk:\n",
    "- Mengoptimalkan strategi penetapan harga\n",
    "- Memprediksi pembatalan pemesanan\n",
    "- Memahami preferensi tamu\n",
    "- Menganalisis pola musiman dalam pemesanan\n",
    "\n",
    "## Jumlah Data\n",
    "- **Jumlah Sampel**: Dataset ini berisi lebih dari 119.000 observasi\n",
    "- **Jumlah Fitur**: Terdapat 32 kolom/fitur\n",
    "- **Label**: Kolom 'is_canceled' dapat digunakan sebagai label untuk model prediksi pembatalan\n",
    "\n",
    "## Format Data\n",
    "Dataset tersedia dalam format CSV (Comma Separated Values).\n",
    "\n",
    "## Deskripsi Kolom\n",
    "\n",
    "* **hotel**: Jenis hotel (Resort Hotel atau City Hotel)\n",
    "* **is_canceled**: Nilai yang menunjukkan apakah pemesanan dibatalkan (1) atau tidak (0)\n",
    "* **lead_time**: Jumlah hari antara tanggal pemesanan dan tanggal kedatangan\n",
    "* **arrival_date_year**: Tahun tanggal kedatangan\n",
    "* **arrival_date_month**: Bulan tanggal kedatangan\n",
    "* **arrival_date_week_number**: Nomor minggu dari tanggal kedatangan\n",
    "* **arrival_date_day_of_month**: Hari dalam bulan dari tanggal kedatangan\n",
    "* **stays_in_weekend_nights**: Jumlah malam akhir pekan (Sabtu atau Minggu) yang dipesan\n",
    "* **stays_in_week_nights**: Jumlah malam hari kerja (Senin sampai Jumat) yang dipesan\n",
    "* **adults**: Jumlah orang dewasa\n",
    "* **children**: Jumlah anak-anak\n",
    "* **babies**: Jumlah bayi\n",
    "* **meal**: Jenis paket makanan yang dipesan\n",
    "* **country**: Negara asal tamu\n",
    "* **market_segment**: Segmen pasar pemesanan\n",
    "* **distribution_channel**: Saluran distribusi pemesanan\n",
    "* **is_repeated_guest**: Nilai yang menunjukkan apakah tamu adalah tamu berulang (1) atau tidak (0)\n",
    "* **previous_cancellations**: Jumlah pembatalan sebelumnya oleh tamu\n",
    "* **previous_bookings_not_canceled**: Jumlah pemesanan sebelumnya yang tidak dibatalkan oleh tamu\n",
    "* **reserved_room_type**: Kode jenis kamar yang dipesan\n",
    "* **assigned_room_type**: Kode jenis kamar yang diberikan\n",
    "* **booking_changes**: Jumlah perubahan/amandemen yang dilakukan pada pemesanan\n",
    "* **deposit_type**: Jenis deposit yang dibayarkan\n",
    "* **agent**: ID agen perjalanan yang melakukan pemesanan\n",
    "* **company**: ID perusahaan/entitas yang melakukan pemesanan\n",
    "* **days_in_waiting_list**: Jumlah hari pemesanan berada dalam daftar tunggu\n",
    "* **customer_type**: Jenis pelanggan\n",
    "* **adr**: Average Daily Rate (Tarif Harian Rata-rata)\n",
    "* **required_car_parking_spaces**: Jumlah tempat parkir mobil yang diminta\n",
    "* **total_of_special_requests**: Jumlah permintaan khusus dari pelanggan\n",
    "* **reservation_status**: Status reservasi (Check-Out, Canceled, No-Show)\n",
    "* **reservation_status_date**: Tanggal status reservasi terakhir ditetapkan"
   ]
  },
  {
   "cell_type": "markdown",
   "id": "e2f369b9",
   "metadata": {},
   "source": [
    "# 2. Data Loading\n",
    "\n",
    "Pada bagian ini, kita akan memuat dataset Hotel Booking Demand ke dalam lingkungan pemrograman Python. Kita akan menggunakan library Pandas untuk memuat dan memanipulasi data."
   ]
  },
  {
   "cell_type": "code",
   "execution_count": null,
   "id": "b6248627",
   "metadata": {},
   "outputs": [],
   "source": [
    "# Import library yang diperlukan\n",
    "import pandas as pd\n",
    "import numpy as np\n",
    "import matplotlib.pyplot as plt\n",
    "import seaborn as sns\n",
    "import missingno as msno\n",
    "import plotly.express as px\n",
    "import folium\n",
    "from folium.plugins import HeatMap\n",
    "import warnings\n",
    "\n",
    "# Mengabaikan warning untuk tampilan yang lebih bersih\n",
    "warnings.filterwarnings('ignore')\n",
    "\n",
    "# Mengatur gaya visualisasi\n",
    "plt.style.use('fivethirtyeight')\n",
    "%matplotlib inline\n",
    "\n",
    "# Mengatur opsi tampilan pandas\n",
    "pd.set_option('display.max_columns', 32)\n",
    "pd.set_option('display.max_rows', 50)"
   ]
  },
  {
   "cell_type": "markdown",
   "id": "3dafef09",
   "metadata": {},
   "source": [
    "## Memuat Dataset\n",
    "\n",
    "Kita akan memuat dataset menggunakan fungsi `read_csv()` dari Pandas. Dataset tersedia dalam format CSV, sehingga mudah dimuat menggunakan Pandas."
   ]
  },
  {
   "cell_type": "code",
   "execution_count": null,
   "id": "195d1cc4",
   "metadata": {},
   "outputs": [],
   "source": [
    "# Memuat dataset\n",
    "# Catatan: Jika Anda menjalankan kode ini di lingkungan lokal, pastikan path file sudah benar\n",
    "# Jika menggunakan Kaggle Notebook, gunakan path berikut:\n",
    "try:\n",
    "    df = pd.read_csv('../input/hotel-booking-demand/hotel_bookings.csv')\n",
    "except:\n",
    "    # Alternatif path jika path di atas tidak berfungsi\n",
    "    try:\n",
    "        df = pd.read_csv('hotel_bookings.csv')\n",
    "    except:\n",
    "        print(\"File tidak ditemukan. Pastikan file CSV berada di lokasi yang benar.\")\n",
    "\n",
    "# Menampilkan 5 baris pertama dari dataset\n",
    "df.head()"
   ]
  },
  {
   "cell_type": "markdown",
   "id": "562b614f",
   "metadata": {},
   "source": [
    "## Tantangan dalam Memuat Data dan Solusinya\n",
    "\n",
    "Beberapa tantangan yang mungkin dihadapi saat memuat dataset ini:\n",
    "\n",
    "1. **Path File**: Jika menjalankan kode di lingkungan lokal, pastikan path file sudah benar. Solusinya adalah dengan menggunakan path relatif atau absolut yang sesuai dengan lokasi file.\n",
    "\n",
    "2. **Encoding**: Beberapa file CSV mungkin menggunakan encoding yang berbeda. Jika terjadi error saat memuat file, coba tambahkan parameter `encoding` seperti `encoding='utf-8'` atau `encoding='latin1'`.\n",
    "\n",
    "3. **Separator**: Meskipun format file adalah CSV (Comma Separated Values), beberapa file mungkin menggunakan separator lain seperti titik koma (;) atau tab. Jika terjadi error, coba tambahkan parameter `sep` seperti `sep=';'` atau `sep='\\t'`.\n",
    "\n",
    "4. **Missing Values**: Dataset mungkin memiliki nilai yang hilang dengan representasi yang berbeda seperti 'NA', 'N/A', atau string kosong. Pandas secara default mengenali beberapa representasi nilai yang hilang, tetapi jika diperlukan, tambahkan parameter `na_values` seperti `na_values=['NA', 'N/A', '', ' ']`.\n",
    "\n",
    "Dalam kasus dataset Hotel Booking Demand ini, tidak ada tantangan khusus dalam memuat data karena formatnya standar dan konsisten."
   ]
  },
  {
   "cell_type": "markdown",
   "id": "e09510f4",
   "metadata": {},
   "source": [
    "# 3. Data Understanding\n",
    "\n",
    "Pada bagian ini, kita akan melakukan eksplorasi awal terhadap dataset untuk memahami karakteristik dan pola yang ada di dalamnya."
   ]
  },
  {
   "cell_type": "markdown",
   "id": "3d4463c7",
   "metadata": {},
   "source": [
    "## 3.1 Basic Statistics\n",
    "\n",
    "Pertama, kita akan melihat informasi umum tentang dataset seperti jumlah baris dan kolom, tipe data, dan statistik dasar."
   ]
  },
  {
   "cell_type": "code",
   "execution_count": null,
   "id": "6eb023dd",
   "metadata": {},
   "outputs": [],
   "source": [
    "# Melihat informasi umum tentang dataset\n",
    "print(\"Informasi Dataset:\")\n",
    "print(f\"Jumlah Baris: {df.shape[0]}\")\n",
    "print(f\"Jumlah Kolom: {df.shape[1]}\")\n",
    "print(\"\\nTipe Data:\")\n",
    "df.info()"
   ]
  },
  {
   "cell_type": "code",
   "execution_count": null,
   "id": "fb5fff36",
   "metadata": {},
   "outputs": [],
   "source": [
    "# Melihat statistik dasar untuk kolom numerik\n",
    "print(\"Statistik Dasar untuk Kolom Numerik:\")\n",
    "df.describe()"
   ]
  },
  {
   "cell_type": "code",
   "execution_count": null,
   "id": "501267cf",
   "metadata": {},
   "outputs": [],
   "source": [
    "# Melihat statistik dasar untuk kolom kategorikal\n",
    "print(\"Statistik Dasar untuk Kolom Kategorikal:\")\n",
    "df.describe(include=['object'])"
   ]
  },
  {
   "cell_type": "code",
   "execution_count": null,
   "id": "c9a149fa",
   "metadata": {},
   "outputs": [],
   "source": [
    "# Melihat nilai unik untuk setiap kolom kategorikal\n",
    "for col in df.select_dtypes(include=['object']).columns:\n",
    "    print(f\"\\nKolom: {col}\")\n",
    "    print(f\"Jumlah Nilai Unik: {df[col].nunique()}\")\n",
    "    print(f\"Nilai Unik: {df[col].unique()[:10] if df[col].nunique() > 10 else df[col].unique()}\")\n",
    "    if df[col].nunique() > 10:\n",
    "        print(\"...\")"
   ]
  },
  {
   "cell_type": "markdown",
   "id": "2672605c",
   "metadata": {},
   "source": [
    "## 3.2 Missing Values Analysis\n",
    "\n",
    "Selanjutnya, kita akan menganalisis nilai yang hilang (missing values) dalam dataset."
   ]
  },
  {
   "cell_type": "code",
   "execution_count": null,
   "id": "250adf35",
   "metadata": {},
   "outputs": [],
   "source": [
    "# Menghitung jumlah nilai yang hilang untuk setiap kolom\n",
    "missing_values = pd.DataFrame({\n",
    "    'Jumlah Nilai Hilang': df.isna().sum(),\n",
    "    'Persentase Nilai Hilang': (df.isna().sum() / len(df) * 100).round(2)\n",
    "})\n",
    "\n",
    "missing_values = missing_values.sort_values('Jumlah Nilai Hilang', ascending=False)\n",
    "missing_values"
   ]
  },
  {
   "cell_type": "code",
   "execution_count": null,
   "id": "d3c1d6ea",
   "metadata": {},
   "outputs": [],
   "source": [
    "# Visualisasi nilai yang hilang\n",
    "plt.figure(figsize=(12, 8))\n",
    "msno.matrix(df)\n",
    "plt.title('Visualisasi Nilai yang Hilang', fontsize=16)\n",
    "plt.show()"
   ]
  },
  {
   "cell_type": "code",
   "execution_count": null,
   "id": "c3cdaf12",
   "metadata": {},
   "outputs": [],
   "source": [
    "# Visualisasi nilai yang hilang dengan heatmap\n",
    "plt.figure(figsize=(12, 8))\n",
    "msno.heatmap(df)\n",
    "plt.title('Heatmap Nilai yang Hilang', fontsize=16)\n",
    "plt.show()"
   ]
  },
  {
   "cell_type": "markdown",
   "id": "6897a4b5",
   "metadata": {},
   "source": [
    "## 3.3 Data Visualization\n",
    "\n",
    "Pada bagian ini, kita akan melakukan visualisasi data untuk mendapatkan wawasan awal tentang dataset."
   ]
  },
  {
   "cell_type": "markdown",
   "id": "913a2dc1",
   "metadata": {},
   "source": [
    "### 3.3.1 Distribusi Pemesanan berdasarkan Jenis Hotel"
   ]
  },
  {
   "cell_type": "code",
   "execution_count": null,
   "id": "26179472",
   "metadata": {},
   "outputs": [],
   "source": [
    "# Distribusi pemesanan berdasarkan jenis hotel\n",
    "plt.figure(figsize=(10, 6))\n",
    "sns.countplot(x='hotel', data=df, palette='viridis')\n",
    "plt.title('Distribusi Pemesanan berdasarkan Jenis Hotel', fontsize=16)\n",
    "plt.xlabel('Jenis Hotel', fontsize=12)\n",
    "plt.ylabel('Jumlah Pemesanan', fontsize=12)\n",
    "plt.xticks(fontsize=10)\n",
    "plt.yticks(fontsize=10)\n",
    "plt.show()"
   ]
  },
  {
   "cell_type": "markdown",
   "id": "19979c6d",
   "metadata": {},
   "source": [
    "### 3.3.2 Distribusi Pemesanan yang Dibatalkan vs Tidak Dibatalkan"
   ]
  },
  {
   "cell_type": "code",
   "execution_count": null,
   "id": "b80c83e3",
   "metadata": {},
   "outputs": [],
   "source": [
    "# Distribusi pemesanan yang dibatalkan vs tidak dibatalkan\n",
    "plt.figure(figsize=(10, 6))\n",
    "sns.countplot(x='is_canceled', data=df, palette='viridis')\n",
    "plt.title('Distribusi Pemesanan yang Dibatalkan vs Tidak Dibatalkan', fontsize=16)\n",
    "plt.xlabel('Status Pembatalan (0: Tidak Dibatalkan, 1: Dibatalkan)', fontsize=12)\n",
    "plt.ylabel('Jumlah Pemesanan', fontsize=12)\n",
    "plt.xticks([0, 1], ['Tidak Dibatalkan', 'Dibatalkan'], fontsize=10)\n",
    "plt.yticks(fontsize=10)\n",
    "plt.show()"
   ]
  },
  {
   "cell_type": "code",
   "execution_count": null,
   "id": "5bb41875",
   "metadata": {},
   "outputs": [],
   "source": [
    "# Persentase pemesanan yang dibatalkan vs tidak dibatalkan\n",
    "canceled_percentage = df['is_canceled'].value_counts(normalize=True) * 100\n",
    "plt.figure(figsize=(10, 6))\n",
    "plt.pie(canceled_percentage, labels=['Tidak Dibatalkan', 'Dibatalkan'], autopct='%1.1f%%',\n",
    "        colors=['#66b3ff', '#ff9999'], startangle=90, explode=(0.1, 0))\n",
    "plt.title('Persentase Pemesanan yang Dibatalkan vs Tidak Dibatalkan', fontsize=16)\n",
    "plt.axis('equal')\n",
    "plt.show()"
   ]
  },
  {
   "cell_type": "markdown",
   "id": "e2634116",
   "metadata": {},
   "source": [
    "### 3.3.3 Distribusi Pemesanan berdasarkan Bulan Kedatangan"
   ]
  },
  {
   "cell_type": "code",
   "execution_count": null,
   "id": "bd871b0b",
   "metadata": {},
   "outputs": [],
   "source": [
    "# Distribusi pemesanan berdasarkan bulan kedatangan\n",
    "plt.figure(figsize=(14, 8))\n",
    "sns.countplot(x='arrival_date_month', data=df, palette='viridis',\n",
    "              order=['January', 'February', 'March', 'April', 'May', 'June',\n",
    "                     'July', 'August', 'September', 'October', 'November', 'December'])\n",
    "plt.title('Distribusi Pemesanan berdasarkan Bulan Kedatangan', fontsize=16)\n",
    "plt.xlabel('Bulan Kedatangan', fontsize=12)\n",
    "plt.ylabel('Jumlah Pemesanan', fontsize=12)\n",
    "plt.xticks(rotation=45, fontsize=10)\n",
    "plt.yticks(fontsize=10)\n",
    "plt.show()"
   ]
  },
  {
   "cell_type": "markdown",
   "id": "599f6d82",
   "metadata": {},
   "source": [
    "### 3.3.4 Distribusi Pemesanan berdasarkan Jenis Hotel dan Status Pembatalan"
   ]
  },
  {
   "cell_type": "code",
   "execution_count": null,
   "id": "080f575d",
   "metadata": {},
   "outputs": [],
   "source": [
    "# Distribusi pemesanan berdasarkan jenis hotel dan status pembatalan\n",
    "plt.figure(figsize=(12, 6))\n",
    "sns.countplot(x='hotel', hue='is_canceled', data=df, palette='viridis')\n",
    "plt.title('Distribusi Pemesanan berdasarkan Jenis Hotel dan Status Pembatalan', fontsize=16)\n",
    "plt.xlabel('Jenis Hotel', fontsize=12)\n",
    "plt.ylabel('Jumlah Pemesanan', fontsize=12)\n",
    "plt.xticks(fontsize=10)\n",
    "plt.yticks(fontsize=10)\n",
    "plt.legend(title='Status Pembatalan', labels=['Tidak Dibatalkan', 'Dibatalkan'])\n",
    "plt.show()"
   ]
  },
  {
   "cell_type": "markdown",
   "id": "6326c1aa",
   "metadata": {},
   "source": [
    "### 3.3.5 Distribusi Pemesanan berdasarkan Segmen Pasar"
   ]
  },
  {
   "cell_type": "code",
   "execution_count": null,
   "id": "57532dc0",
   "metadata": {},
   "outputs": [],
   "source": [
    "# Distribusi pemesanan berdasarkan segmen pasar\n",
    "plt.figure(figsize=(14, 8))\n",
    "sns.countplot(x='market_segment', data=df, palette='viridis')\n",
    "plt.title('Distribusi Pemesanan berdasarkan Segmen Pasar', fontsize=16)\n",
    "plt.xlabel('Segmen Pasar', fontsize=12)\n",
    "plt.ylabel('Jumlah Pemesanan', fontsize=12)\n",
    "plt.xticks(rotation=45, fontsize=10)\n",
    "plt.yticks(fontsize=10)\n",
    "plt.show()"
   ]
  },
  {
   "cell_type": "markdown",
   "id": "7957e32f",
   "metadata": {},
   "source": [
    "### 3.3.6 Distribusi Pemesanan berdasarkan Negara Asal Tamu"
   ]
  },
  {
   "cell_type": "code",
   "execution_count": null,
   "id": "c6193eb7",
   "metadata": {},
   "outputs": [],
   "source": [
    "# Distribusi pemesanan berdasarkan negara asal tamu (top 15)\n",
    "top_countries = df['country'].value_counts().head(15)\n",
    "plt.figure(figsize=(14, 8))\n",
    "sns.barplot(x=top_countries.index, y=top_countries.values, palette='viridis')\n",
    "plt.title('Distribusi Pemesanan berdasarkan Negara Asal Tamu (Top 15)', fontsize=16)\n",
    "plt.xlabel('Negara', fontsize=12)\n",
    "plt.ylabel('Jumlah Pemesanan', fontsize=12)\n",
    "plt.xticks(rotation=45, fontsize=10)\n",
    "plt.yticks(fontsize=10)\n",
    "plt.show()"
   ]
  },
  {
   "cell_type": "markdown",
   "id": "fd4793bb",
   "metadata": {},
   "source": [
    "### 3.3.7 Distribusi Tarif Harian Rata-rata (ADR)"
   ]
  },
  {
   "cell_type": "code",
   "execution_count": null,
   "id": "eb81c5dc",
   "metadata": {},
   "outputs": [],
   "source": [
    "# Distribusi tarif harian rata-rata (ADR)\n",
    "plt.figure(figsize=(14, 8))\n",
    "sns.histplot(df['adr'], kde=True, bins=50, palette='viridis')\n",
    "plt.title('Distribusi Tarif Harian Rata-rata (ADR)', fontsize=16)\n",
    "plt.xlabel('ADR', fontsize=12)\n",
    "plt.ylabel('Frekuensi', fontsize=12)\n",
    "plt.xticks(fontsize=10)\n",
    "plt.yticks(fontsize=10)\n",
    "plt.show()"
   ]
  },
  {
   "cell_type": "markdown",
   "id": "fe1b0bd9",
   "metadata": {},
   "source": [
    "### 3.3.8 Distribusi Lead Time"
   ]
  },
  {
   "cell_type": "code",
   "execution_count": null,
   "id": "f691a2eb",
   "metadata": {},
   "outputs": [],
   "source": [
    "# Distribusi lead time\n",
    "plt.figure(figsize=(14, 8))\n",
    "sns.histplot(df['lead_time'], kde=True, bins=50, palette='viridis')\n",
    "plt.title('Distribusi Lead Time', fontsize=16)\n",
    "plt.xlabel('Lead Time (hari)', fontsize=12)\n",
    "plt.ylabel('Frekuensi', fontsize=12)\n",
    "plt.xticks(fontsize=10)\n",
    "plt.yticks(fontsize=10)\n",
    "plt.show()"
   ]
  },
  {
   "cell_type": "markdown",
   "id": "fa729a1c",
   "metadata": {},
   "source": [
    "### 3.3.9 Korelasi antar Fitur Numerik"
   ]
  },
  {
   "cell_type": "code",
   "execution_count": null,
   "id": "5b29ae4e",
   "metadata": {},
   "outputs": [],
   "source": [
    "# Korelasi antar fitur numerik\n",
    "numeric_columns = df.select_dtypes(include=['int64', 'float64']).columns\n",
    "correlation_matrix = df[numeric_columns].corr()\n",
    "\n",
    "plt.figure(figsize=(16, 12))\n",
    "sns.heatmap(correlation_matrix, annot=True, cmap='viridis', linewidths=0.5, fmt='.2f')\n",
    "plt.title('Korelasi antar Fitur Numerik', fontsize=16)\n",
    "plt.xticks(fontsize=10, rotation=90)\n",
    "plt.yticks(fontsize=10)\n",
    "plt.show()"
   ]
  },
  {
   "cell_type": "markdown",
   "id": "095692f5",
   "metadata": {},
   "source": [
    "### 3.3.10 Analisis Tarif Harian Rata-rata (ADR) berdasarkan Jenis Hotel dan Bulan Kedatangan"
   ]
  },
  {
   "cell_type": "code",
   "execution_count": null,
   "id": "edc223c2",
   "metadata": {},
   "outputs": [],
   "source": [
    "# Analisis tarif harian rata-rata (ADR) berdasarkan jenis hotel dan bulan kedatangan\n",
    "plt.figure(figsize=(16, 8))\n",
    "sns.boxplot(x='arrival_date_month', y='adr', hue='hotel', data=df, palette='viridis',\n",
    "            order=['January', 'February', 'March', 'April', 'May', 'June',\n",
    "                   'July', 'August', 'September', 'October', 'November', 'December'])\n",
    "plt.title('Tarif Harian Rata-rata (ADR) berdasarkan Jenis Hotel dan Bulan Kedatangan', fontsize=16)\n",
    "plt.xlabel('Bulan Kedatangan', fontsize=12)\n",
    "plt.ylabel('ADR', fontsize=12)\n",
    "plt.xticks(rotation=45, fontsize=10)\n",
    "plt.yticks(fontsize=10)\n",
    "plt.legend(title='Jenis Hotel')\n",
    "plt.show()"
   ]
  },
  {
   "cell_type": "markdown",
   "id": "27bcfd3d",
   "metadata": {},
   "source": [
    "### 3.3.11 Analisis Pembatalan berdasarkan Lead Time"
   ]
  },
  {
   "cell_type": "code",
   "execution_count": null,
   "id": "dfb086f4",
   "metadata": {},
   "outputs": [],
   "source": [
    "# Analisis pembatalan berdasarkan lead time\n",
    "plt.figure(figsize=(14, 8))\n",
    "sns.boxplot(x='is_canceled', y='lead_time', data=df, palette='viridis')\n",
    "plt.title('Pembatalan berdasarkan Lead Time', fontsize=16)\n",
    "plt.xlabel('Status Pembatalan (0: Tidak Dibatalkan, 1: Dibatalkan)', fontsize=12)\n",
    "plt.ylabel('Lead Time (hari)', fontsize=12)\n",
    "plt.xticks([0, 1], ['Tidak Dibatalkan', 'Dibatalkan'], fontsize=10)\n",
    "plt.yticks(fontsize=10)\n",
    "plt.show()"
   ]
  },
  {
   "cell_type": "markdown",
   "id": "1aa5faee",
   "metadata": {},
   "source": [
    "### 3.3.12 Analisis Lama Menginap"
   ]
  },
  {
   "cell_type": "code",
   "execution_count": null,
   "id": "d6ed0a98",
   "metadata": {},
   "outputs": [],
   "source": [
    "# Menambahkan kolom total_nights untuk analisis lama menginap\n",
    "df['total_nights'] = df['stays_in_weekend_nights'] + df['stays_in_week_nights']\n",
    "\n",
    "# Analisis lama menginap\n",
    "plt.figure(figsize=(14, 8))\n",
    "sns.histplot(df['total_nights'], kde=True, bins=30, palette='viridis')\n",
    "plt.title('Distribusi Lama Menginap', fontsize=16)\n",
    "plt.xlabel('Jumlah Malam', fontsize=12)\n",
    "plt.ylabel('Frekuensi', fontsize=12)\n",
    "plt.xticks(fontsize=10)\n",
    "plt.yticks(fontsize=10)\n",
    "plt.xlim(0, 20)  # Membatasi tampilan untuk melihat pola yang lebih jelas\n",
    "plt.show()"
   ]
  },
  {
   "cell_type": "code",
   "execution_count": null,
   "id": "5e6c4d7a",
   "metadata": {},
   "outputs": [],
   "source": [
    "# Analisis lama menginap berdasarkan jenis hotel\n",
    "plt.figure(figsize=(14, 8))\n",
    "sns.boxplot(x='hotel', y='total_nights', data=df, palette='viridis')\n",
    "plt.title('Lama Menginap berdasarkan Jenis Hotel', fontsize=16)\n",
    "plt.xlabel('Jenis Hotel', fontsize=12)\n",
    "plt.ylabel('Jumlah Malam', fontsize=12)\n",
    "plt.xticks(fontsize=10)\n",
    "plt.yticks(fontsize=10)\n",
    "plt.ylim(0, 15)  # Membatasi tampilan untuk melihat pola yang lebih jelas\n",
    "plt.show()"
   ]
  },
  {
   "cell_type": "markdown",
   "id": "b072a51c",
   "metadata": {},
   "source": [
    "## Insight dari Eksplorasi Data\n",
    "\n",
    "Berdasarkan eksplorasi data yang telah dilakukan, beberapa insight yang dapat diperoleh adalah:\n",
    "\n",
    "1. **Distribusi Jenis Hotel**: City Hotel memiliki jumlah pemesanan yang lebih banyak dibandingkan Resort Hotel.\n",
    "\n",
    "2. **Tingkat Pembatalan**: Sekitar 37% dari total pemesanan dibatalkan, yang merupakan angka yang cukup signifikan dan dapat mempengaruhi pendapatan hotel.\n",
    "\n",
    "3. **Pola Musiman**: Terdapat pola musiman dalam pemesanan hotel, dengan puncak pemesanan terjadi pada bulan Juli dan Agustus (musim panas di belahan bumi utara).\n",
    "\n",
    "4. **Segmen Pasar**: Segmen pasar \"Online TA\" (Online Travel Agency) mendominasi pemesanan, menunjukkan pentingnya platform online dalam industri perhotelan.\n",
    "\n",
    "5. **Negara Asal Tamu**: Portugal (negara tempat hotel berada) merupakan negara asal tamu terbanyak, diikuti oleh negara-negara Eropa lainnya.\n",
    "\n",
    "6. **Tarif Harian Rata-rata (ADR)**: Distribusi ADR menunjukkan variasi yang cukup besar, dengan beberapa outlier yang memiliki nilai sangat tinggi.\n",
    "\n",
    "7. **Lead Time**: Pemesanan yang dibatalkan cenderung memiliki lead time yang lebih panjang, menunjukkan bahwa pemesanan yang dilakukan jauh-jauh hari memiliki risiko pembatalan yang lebih tinggi.\n",
    "\n",
    "8. **Lama Menginap**: Sebagian besar tamu menginap untuk jangka waktu yang singkat (1-4 malam), dengan pola yang berbeda antara City Hotel dan Resort Hotel.\n",
    "\n",
    "9. **Korelasi antar Fitur**: Terdapat beberapa korelasi yang menarik antar fitur, seperti korelasi positif antara lead time dan pembatalan, serta korelasi negatif antara is_repeated_guest dan pembatalan.\n",
    "\n",
    "10. **Variasi Harga Musiman**: Tarif hotel bervariasi berdasarkan bulan, dengan Resort Hotel menunjukkan variasi yang lebih besar dibandingkan City Hotel."
   ]
  },
  {
   "cell_type": "markdown",
   "id": "a6c1d379",
   "metadata": {},
   "source": [
    "# 4. Data Preparation\n",
    "\n",
    "Pada bagian ini, kita akan melakukan persiapan data untuk analisis lebih lanjut atau pelatihan model machine learning. Langkah-langkah yang akan dilakukan meliputi:\n",
    "\n",
    "1. Handling Missing Values\n",
    "2. Handling Outliers\n",
    "3. Encoding Categorical Variables\n",
    "4. Feature Engineering\n",
    "5. Feature Selection"
   ]
  },
  {
   "cell_type": "markdown",
   "id": "772c5bbb",
   "metadata": {},
   "source": [
    "## 4.1 Handling Missing Values\n",
    "\n",
    "Pertama, kita akan menangani nilai yang hilang (missing values) dalam dataset."
   ]
  },
  {
   "cell_type": "code",
   "execution_count": null,
   "id": "f786ead8",
   "metadata": {},
   "outputs": [],
   "source": [
    "# Melihat kembali jumlah nilai yang hilang untuk setiap kolom\n",
    "missing_values = pd.DataFrame({\n",
    "    'Jumlah Nilai Hilang': df.isna().sum(),\n",
    "    'Persentase Nilai Hilang': (df.isna().sum() / len(df) * 100).round(2)\n",
    "})\n",
    "\n",
    "missing_values = missing_values.sort_values('Jumlah Nilai Hilang', ascending=False)\n",
    "missing_values[missing_values['Jumlah Nilai Hilang'] > 0]"
   ]
  },
  {
   "cell_type": "markdown",
   "id": "ee8ad87d",
   "metadata": {},
   "source": [
    "Berdasarkan analisis nilai yang hilang, kita perlu menangani beberapa kolom dengan nilai yang hilang:\n",
    "\n",
    "1. **children**: Kolom ini memiliki beberapa nilai yang hilang. Kita akan mengisi nilai yang hilang dengan 0, dengan asumsi bahwa jika tidak ada informasi tentang jumlah anak, maka tidak ada anak dalam pemesanan.\n",
    "\n",
    "2. **country**: Kolom ini memiliki beberapa nilai yang hilang. Kita akan mengisi nilai yang hilang dengan \"Unknown\", menunjukkan bahwa negara asal tamu tidak diketahui.\n",
    "\n",
    "3. **agent**: Kolom ini memiliki banyak nilai yang hilang. Kita akan mengisi nilai yang hilang dengan 0, menunjukkan bahwa pemesanan tidak dilakukan melalui agen.\n",
    "\n",
    "4. **company**: Kolom ini memiliki banyak nilai yang hilang. Kita akan mengisi nilai yang hilang dengan 0, menunjukkan bahwa pemesanan tidak dilakukan melalui perusahaan."
   ]
  },
  {
   "cell_type": "code",
   "execution_count": null,
   "id": "790cd68c",
   "metadata": {},
   "outputs": [],
   "source": [
    "# Membuat salinan dataset untuk persiapan data\n",
    "df_prep = df.copy()\n",
    "\n",
    "# Mengisi nilai yang hilang\n",
    "df_prep['children'] = df_prep['children'].fillna(0)\n",
    "df_prep['country'] = df_prep['country'].fillna('Unknown')\n",
    "df_prep['agent'] = df_prep['agent'].fillna(0)\n",
    "df_prep['company'] = df_prep['company'].fillna(0)\n",
    "\n",
    "# Memeriksa apakah masih ada nilai yang hilang\n",
    "missing_values_after = pd.DataFrame({\n",
    "    'Jumlah Nilai Hilang': df_prep.isna().sum(),\n",
    "    'Persentase Nilai Hilang': (df_prep.isna().sum() / len(df_prep) * 100).round(2)\n",
    "})\n",
    "\n",
    "missing_values_after = missing_values_after.sort_values('Jumlah Nilai Hilang', ascending=False)\n",
    "missing_values_after[missing_values_after['Jumlah Nilai Hilang'] > 0]"
   ]
  },
  {
   "cell_type": "markdown",
   "id": "c090bdd9",
   "metadata": {},
   "source": [
    "Selain menangani nilai yang hilang, kita juga perlu menangani kasus di mana jumlah tamu (adults + children + babies) adalah 0, yang merupakan anomali dalam data."
   ]
  },
  {
   "cell_type": "code",
   "execution_count": null,
   "id": "96312471",
   "metadata": {},
   "outputs": [],
   "source": [
    "# Menghitung jumlah baris di mana jumlah tamu adalah 0\n",
    "zero_guests = df_prep[(df_prep['adults'] + df_prep['children'] + df_prep['babies']) == 0].shape[0]\n",
    "print(f\"Jumlah baris di mana jumlah tamu adalah 0: {zero_guests}\")\n",
    "\n",
    "# Menghapus baris di mana jumlah tamu adalah 0\n",
    "df_prep = df_prep[(df_prep['adults'] + df_prep['children'] + df_prep['babies']) > 0]\n",
    "print(f\"Jumlah baris setelah menghapus baris dengan jumlah tamu 0: {df_prep.shape[0]}\")"
   ]
  },
  {
   "cell_type": "markdown",
   "id": "e2218bdf",
   "metadata": {},
   "source": [
    "## 4.2 Handling Outliers\n",
    "\n",
    "Selanjutnya, kita akan menangani outlier dalam dataset, terutama pada kolom 'adr' (Average Daily Rate) yang memiliki beberapa nilai ekstrem."
   ]
  },
  {
   "cell_type": "code",
   "execution_count": null,
   "id": "cd3960c1",
   "metadata": {},
   "outputs": [],
   "source": [
    "# Melihat statistik dasar untuk kolom 'adr'\n",
    "df_prep['adr'].describe()"
   ]
  },
  {
   "cell_type": "code",
   "execution_count": null,
   "id": "e01e9da2",
   "metadata": {},
   "outputs": [],
   "source": [
    "# Visualisasi distribusi 'adr' dengan boxplot\n",
    "plt.figure(figsize=(10, 6))\n",
    "sns.boxplot(y='adr', data=df_prep)\n",
    "plt.title('Boxplot untuk ADR', fontsize=16)\n",
    "plt.ylabel('ADR', fontsize=12)\n",
    "plt.yticks(fontsize=10)\n",
    "plt.show()"
   ]
  },
  {
   "cell_type": "markdown",
   "id": "757d8d76",
   "metadata": {},
   "source": [
    "Dari visualisasi di atas, terlihat bahwa kolom 'adr' memiliki beberapa outlier dengan nilai yang sangat tinggi. Kita akan menangani outlier ini dengan metode capping, yaitu membatasi nilai maksimum pada persentil ke-99."
   ]
  },
  {
   "cell_type": "code",
   "execution_count": null,
   "id": "93f23e2d",
   "metadata": {},
   "outputs": [],
   "source": [
    "# Menangani outlier pada kolom 'adr' dengan metode capping\n",
    "adr_cap = np.percentile(df_prep['adr'], 99)\n",
    "print(f\"Nilai capping untuk ADR: {adr_cap}\")\n",
    "\n",
    "df_prep['adr'] = np.where(df_prep['adr'] > adr_cap, adr_cap, df_prep['adr'])\n",
    "\n",
    "# Melihat statistik dasar untuk kolom 'adr' setelah capping\n",
    "df_prep['adr'].describe()"
   ]
  },
  {
   "cell_type": "code",
   "execution_count": null,
   "id": "f5a5c268",
   "metadata": {},
   "outputs": [],
   "source": [
    "# Visualisasi distribusi 'adr' setelah capping\n",
    "plt.figure(figsize=(10, 6))\n",
    "sns.boxplot(y='adr', data=df_prep)\n",
    "plt.title('Boxplot untuk ADR setelah Capping', fontsize=16)\n",
    "plt.ylabel('ADR', fontsize=12)\n",
    "plt.yticks(fontsize=10)\n",
    "plt.show()"
   ]
  },
  {
   "cell_type": "markdown",
   "id": "4ae5bea3",
   "metadata": {},
   "source": [
    "## 4.3 Encoding Categorical Variables\n",
    "\n",
    "Selanjutnya, kita akan melakukan encoding terhadap variabel kategorikal agar dapat digunakan dalam model machine learning."
   ]
  },
  {
   "cell_type": "code",
   "execution_count": null,
   "id": "14170092",
   "metadata": {},
   "outputs": [],
   "source": [
    "# Melihat kolom-kolom kategorikal\n",
    "categorical_columns = df_prep.select_dtypes(include=['object']).columns\n",
    "print(f\"Kolom-kolom kategorikal: {list(categorical_columns)}\")"
   ]
  },
  {
   "cell_type": "markdown",
   "id": "2a74660f",
   "metadata": {},
   "source": [
    "Kita akan melakukan encoding terhadap variabel kategorikal dengan metode yang sesuai:\n",
    "\n",
    "1. **One-Hot Encoding**: Untuk variabel kategorikal dengan kardinalitas rendah (jumlah kategori sedikit), seperti 'hotel', 'meal', 'market_segment', 'distribution_channel', 'reserved_room_type', 'assigned_room_type', 'deposit_type', 'customer_type', dan 'reservation_status'.\n",
    "\n",
    "2. **Label Encoding**: Untuk variabel kategorikal dengan kardinalitas tinggi (jumlah kategori banyak), seperti 'country'.\n",
    "\n",
    "3. **Ordinal Encoding**: Untuk variabel kategorikal yang memiliki urutan, seperti 'arrival_date_month'."
   ]
  },
  {
   "cell_type": "code",
   "execution_count": null,
   "id": "1f4d77a9",
   "metadata": {},
   "outputs": [],
   "source": [
    "# One-Hot Encoding untuk variabel kategorikal dengan kardinalitas rendah\n",
    "categorical_columns_low_cardinality = ['hotel', 'meal', 'market_segment', 'distribution_channel',\n",
    "                                       'reserved_room_type', 'assigned_room_type', 'deposit_type',\n",
    "                                       'customer_type', 'reservation_status']\n",
    "\n",
    "df_encoded = pd.get_dummies(df_prep, columns=categorical_columns_low_cardinality, drop_first=True)"
   ]
  },
  {
   "cell_type": "code",
   "execution_count": null,
   "id": "78c4e046",
   "metadata": {},
   "outputs": [],
   "source": [
    "# Label Encoding untuk variabel kategorikal dengan kardinalitas tinggi\n",
    "from sklearn.preprocessing import LabelEncoder\n",
    "\n",
    "label_encoder = LabelEncoder()\n",
    "df_encoded['country_encoded'] = label_encoder.fit_transform(df_prep['country'])\n",
    "df_encoded.drop('country', axis=1, inplace=True)"
   ]
  },
  {
   "cell_type": "code",
   "execution_count": null,
   "id": "abd3d8a2",
   "metadata": {},
   "outputs": [],
   "source": [
    "# Ordinal Encoding untuk variabel kategorikal yang memiliki urutan\n",
    "month_order = {'January': 1, 'February': 2, 'March': 3, 'April': 4, 'May': 5, 'June': 6,\n",
    "               'July': 7, 'August': 8, 'September': 9, 'October': 10, 'November': 11, 'December': 12}\n",
    "\n",
    "df_encoded['arrival_date_month_encoded'] = df_prep['arrival_date_month'].map(month_order)\n",
    "df_encoded.drop('arrival_date_month', axis=1, inplace=True)"
   ]
  },
  {
   "cell_type": "code",
   "execution_count": null,
   "id": "d0413546",
   "metadata": {},
   "outputs": [],
   "source": [
    "# Melihat hasil encoding\n",
    "df_encoded.head()"
   ]
  },
  {
   "cell_type": "markdown",
   "id": "ed18bfd1",
   "metadata": {},
   "source": [
    "## 4.4 Feature Engineering\n",
    "\n",
    "Selanjutnya, kita akan melakukan feature engineering untuk menciptakan fitur baru yang mungkin berguna untuk analisis atau model machine learning."
   ]
  },
  {
   "cell_type": "code",
   "execution_count": null,
   "id": "ae433e92",
   "metadata": {},
   "outputs": [],
   "source": [
    "# 1. Total Nights: Jumlah total malam menginap\n",
    "df_encoded['total_nights'] = df_encoded['stays_in_weekend_nights'] + df_encoded['stays_in_week_nights']\n",
    "\n",
    "# 2. Total Guests: Jumlah total tamu\n",
    "df_encoded['total_guests'] = df_encoded['adults'] + df_encoded['children'] + df_encoded['babies']\n",
    "\n",
    "# 3. Has Children: Apakah pemesanan termasuk anak-anak\n",
    "df_encoded['has_children'] = (df_encoded['children'] > 0).astype(int)\n",
    "\n",
    "# 4. Has Babies: Apakah pemesanan termasuk bayi\n",
    "df_encoded['has_babies'] = (df_encoded['babies'] > 0).astype(int)\n",
    "\n",
    "# 5. ADR per Person: Tarif harian rata-rata per orang\n",
    "df_encoded['adr_per_person'] = df_encoded['adr'] / df_encoded['total_guests']\n",
    "df_encoded['adr_per_person'] = df_encoded['adr_per_person'].replace([np.inf, -np.inf], np.nan).fillna(df_encoded['adr'])\n",
    "\n",
    "# 6. Is Weekend Stay: Apakah pemesanan termasuk menginap di akhir pekan\n",
    "df_encoded['is_weekend_stay'] = (df_encoded['stays_in_weekend_nights'] > 0).astype(int)\n",
    "\n",
    "# 7. Is Long Stay: Apakah pemesanan termasuk menginap dalam jangka waktu yang panjang (> 7 malam)\n",
    "df_encoded['is_long_stay'] = (df_encoded['total_nights'] > 7).astype(int)\n",
    "\n",
    "# 8. Arrival Quarter: Kuartal kedatangan\n",
    "df_encoded['arrival_quarter'] = ((df_encoded['arrival_date_month_encoded'] - 1) // 3 + 1).astype(int)\n",
    "\n",
    "# 9. Is High Season: Apakah pemesanan pada musim tinggi (Juni-Agustus)\n",
    "df_encoded['is_high_season'] = ((df_encoded['arrival_date_month_encoded'] >= 6) &\n",
    "                               (df_encoded['arrival_date_month_encoded'] <= 8)).astype(int)\n",
    "\n",
    "# 10. Lead Time Category: Kategori lead time\n",
    "df_encoded['lead_time_category'] = pd.cut(df_encoded['lead_time'],\n",
    "                                         bins=[0, 7, 30, 90, 365, float('inf')],\n",
    "                                         labels=[1, 2, 3, 4, 5])"
   ]
  },
  {
   "cell_type": "code",
   "execution_count": null,
   "id": "859db057",
   "metadata": {},
   "outputs": [],
   "source": [
    "# Melihat hasil feature engineering\n",
    "df_encoded.head()"
   ]
  },
  {
   "cell_type": "markdown",
   "id": "a197f5a1",
   "metadata": {},
   "source": [
    "## 4.5 Feature Selection\n",
    "\n",
    "Terakhir, kita akan melakukan feature selection untuk memilih fitur yang paling relevan untuk model machine learning."
   ]
  },
  {
   "cell_type": "code",
   "execution_count": null,
   "id": "ea90baae",
   "metadata": {},
   "outputs": [],
   "source": [
    "# Melihat korelasi fitur dengan target (is_canceled)\n",
    "correlation_with_target = df_encoded.corr()['is_canceled'].sort_values(ascending=False)\n",
    "print(\"Korelasi Fitur dengan Target (is_canceled):\")\n",
    "print(correlation_with_target)"
   ]
  },
  {
   "cell_type": "code",
   "execution_count": null,
   "id": "66738707",
   "metadata": {},
   "outputs": [],
   "source": [
    "# Visualisasi korelasi fitur dengan target\n",
    "plt.figure(figsize=(14, 10))\n",
    "correlation_with_target.drop('is_canceled').sort_values().plot(kind='barh')\n",
    "plt.title('Korelasi Fitur dengan Target (is_canceled)', fontsize=16)\n",
    "plt.xlabel('Korelasi', fontsize=12)\n",
    "plt.ylabel('Fitur', fontsize=12)\n",
    "plt.xticks(fontsize=10)\n",
    "plt.yticks(fontsize=10)\n",
    "plt.grid(True)\n",
    "plt.show()"
   ]
  },
  {
   "cell_type": "markdown",
   "id": "6985b440",
   "metadata": {},
   "source": [
    "Berdasarkan analisis korelasi, kita dapat memilih fitur-fitur yang memiliki korelasi yang signifikan dengan target (is_canceled). Kita akan memilih fitur-fitur dengan nilai absolut korelasi di atas threshold tertentu, misalnya 0.05."
   ]
  },
  {
   "cell_type": "code",
   "execution_count": null,
   "id": "5bca94a5",
   "metadata": {},
   "outputs": [],
   "source": [
    "# Memilih fitur berdasarkan korelasi\n",
    "threshold = 0.05\n",
    "selected_features = correlation_with_target.drop('is_canceled').abs()[correlation_with_target.drop('is_canceled').abs() > threshold].index.tolist()\n",
    "print(f\"Jumlah fitur yang dipilih: {len(selected_features)}\")\n",
    "print(f\"Fitur yang dipilih: {selected_features}\")"
   ]
  },
  {
   "cell_type": "code",
   "execution_count": null,
   "id": "afc96da8",
   "metadata": {},
   "outputs": [],
   "source": [
    "# Membuat dataset final dengan fitur yang dipilih\n",
    "X = df_encoded[selected_features]\n",
    "y = df_encoded['is_canceled']\n",
    "\n",
    "print(f\"Dimensi X: {X.shape}\")\n",
    "print(f\"Dimensi y: {y.shape}\")"
   ]
  },
  {
   "cell_type": "markdown",
   "id": "f18f638c",
   "metadata": {},
   "source": [
    "# 5. Conclusion\n",
    "\n",
    "Dalam analisis ini, kita telah melakukan persiapan data yang komprehensif untuk dataset Hotel Booking Demand. Berikut adalah ringkasan langkah-langkah yang telah dilakukan:\n",
    "\n",
    "1. **Data Description**: Kita telah menjelaskan dataset, termasuk nama, sumber, deskripsi singkat, jumlah data, dan format data.\n",
    "\n",
    "2. **Data Loading**: Kita telah memuat dataset ke dalam lingkungan pemrograman Python menggunakan Pandas dan menjelaskan tantangan yang mungkin dihadapi saat memuat data.\n",
    "\n",
    "3. **Data Understanding**: Kita telah melakukan eksplorasi data untuk memahami karakteristik dan pola dalam dataset, termasuk statistik dasar, analisis nilai yang hilang, dan visualisasi data.\n",
    "\n",
    "4. **Data Preparation**: Kita telah melakukan persiapan data untuk analisis lebih lanjut atau pelatihan model machine learning, termasuk:\n",
    "   - Handling Missing Values: Mengisi nilai yang hilang dengan nilai yang sesuai.\n",
    "   - Handling Outliers: Menangani outlier pada kolom 'adr' dengan metode capping.\n",
    "   - Encoding Categorical Variables: Melakukan encoding terhadap variabel kategorikal dengan metode yang sesuai.\n",
    "   - Feature Engineering: Menciptakan fitur baru yang mungkin berguna untuk analisis atau model machine learning.\n",
    "   - Feature Selection: Memilih fitur yang paling relevan untuk model machine learning.\n",
    "\n",
    "Dataset Hotel Booking Demand ini sangat kaya dengan informasi dan dapat digunakan untuk berbagai analisis dan model machine learning, seperti:\n",
    "\n",
    "- Prediksi pembatalan pemesanan hotel\n",
    "- Analisis faktor-faktor yang mempengaruhi pembatalan\n",
    "- Segmentasi pelanggan\n",
    "- Analisis pola musiman dalam pemesanan hotel\n",
    "- Optimasi harga dan strategi pemasaran\n",
    "\n",
    "Dengan persiapan data yang telah dilakukan, dataset ini siap untuk digunakan dalam analisis lebih lanjut atau pelatihan model machine learning."
   ]
  },
  {
   "cell_type": "markdown",
   "id": "f3a206e0",
   "metadata": {},
   "source": [
    "## Keputusan yang Diambil dalam Preprocessing dan Alasannya\n",
    "\n",
    "1. **Handling Missing Values**:\n",
    "   - Mengisi nilai yang hilang pada kolom 'children' dengan 0, dengan asumsi bahwa jika tidak ada informasi tentang jumlah anak, maka tidak ada anak dalam pemesanan.\n",
    "   - Mengisi nilai yang hilang pada kolom 'country' dengan \"Unknown\", menunjukkan bahwa negara asal tamu tidak diketahui.\n",
    "   - Mengisi nilai yang hilang pada kolom 'agent' dan 'company' dengan 0, menunjukkan bahwa pemesanan tidak dilakukan melalui agen atau perusahaan.\n",
    "   - Alasan: Pendekatan ini memungkinkan kita untuk mempertahankan semua baris data tanpa menghapus informasi yang berharga.\n",
    "\n",
    "2. **Handling Outliers**:\n",
    "   - Menangani outlier pada kolom 'adr' dengan metode capping, yaitu membatasi nilai maksimum pada persentil ke-99.\n",
    "   - Alasan: Metode ini memungkinkan kita untuk menangani nilai ekstrem tanpa menghapus terlalu banyak data, sehingga mempertahankan informasi yang berharga.\n",
    "\n",
    "3. **Encoding Categorical Variables**:\n",
    "   - Menggunakan One-Hot Encoding untuk variabel kategorikal dengan kardinalitas rendah.\n",
    "   - Menggunakan Label Encoding untuk variabel kategorikal dengan kardinalitas tinggi.\n",
    "   - Menggunakan Ordinal Encoding untuk variabel kategorikal yang memiliki urutan.\n",
    "   - Alasan: Pendekatan ini memungkinkan kita untuk mengubah variabel kategorikal menjadi format numerik yang dapat digunakan dalam model machine learning, dengan mempertimbangkan karakteristik masing-masing variabel.\n",
    "\n",
    "4. **Feature Engineering**:\n",
    "   - Menciptakan fitur baru seperti 'total_nights', 'total_guests', 'has_children', 'has_babies', 'adr_per_person', 'is_weekend_stay', 'is_long_stay', 'arrival_quarter', 'is_high_season', dan 'lead_time_category'.\n",
    "   - Alasan: Fitur-fitur baru ini dapat memberikan informasi tambahan yang mungkin berguna untuk analisis atau model machine learning, seperti pola musiman, karakteristik pemesanan, dan perilaku pelanggan.\n",
    "\n",
    "5. **Feature Selection**:\n",
    "   - Memilih fitur berdasarkan korelasi dengan target (is_canceled), dengan threshold 0.05.\n",
    "   - Alasan: Pendekatan ini memungkinkan kita untuk fokus pada fitur-fitur yang memiliki hubungan yang signifikan dengan target, sehingga dapat meningkatkan performa model dan mengurangi dimensi data.\n",
    "\n",
    "Semua keputusan di atas diambil dengan mempertimbangkan karakteristik dataset, tujuan analisis, dan praktik terbaik dalam persiapan data untuk analisis atau model machine learning."
   ]
  }
 ],
 "metadata": {
  "jupytext": {
   "cell_metadata_filter": "-all",
   "main_language": "python",
   "notebook_metadata_filter": "-all"
  }
 },
 "nbformat": 4,
 "nbformat_minor": 5
}
